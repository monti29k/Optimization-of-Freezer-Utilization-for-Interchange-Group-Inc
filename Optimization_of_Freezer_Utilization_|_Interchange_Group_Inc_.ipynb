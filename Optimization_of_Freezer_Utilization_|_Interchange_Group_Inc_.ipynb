{
  "nbformat": 4,
  "nbformat_minor": 0,
  "metadata": {
    "colab": {
      "private_outputs": true,
      "provenance": [],
      "include_colab_link": true
    },
    "kernelspec": {
      "name": "python3",
      "display_name": "Python 3"
    },
    "language_info": {
      "name": "python"
    }
  },
  "cells": [
    {
      "cell_type": "markdown",
      "metadata": {
        "id": "view-in-github",
        "colab_type": "text"
      },
      "source": [
        "<a href=\"https://colab.research.google.com/github/prashant29k/Optimization-of-Freezer-Utilization-for-Interchange-Group-Inc/blob/main/Optimization_of_Freezer_Utilization_%7C_Interchange_Group_Inc_.ipynb\" target=\"_parent\"><img src=\"https://colab.research.google.com/assets/colab-badge.svg\" alt=\"Open In Colab\"/></a>"
      ]
    },
    {
      "cell_type": "markdown",
      "source": [
        "#Interchange Group inc."
      ],
      "metadata": {
        "id": "k42fCsZS50A7"
      }
    },
    {
      "cell_type": "markdown",
      "source": [
        "Install amplpy and other packages"
      ],
      "metadata": {
        "id": "j6wBR8C9ZrZo"
      }
    },
    {
      "cell_type": "code",
      "execution_count": null,
      "metadata": {
        "id": "exIc-VWyiStY"
      },
      "outputs": [],
      "source": [
        "!pip install -q amplpy ampltools pandas"
      ]
    },
    {
      "cell_type": "code",
      "source": [
        "# Google Colab & AMPL integration\n",
        "MODULES, LICENSE_UUID = [\"coin\", 'gurobi', \"highs\", \"gokestrel\"], \"45550579-96ab-4901-aa14-3ef027ee3844\"\n",
        "from amplpy import tools\n",
        "from ampltools import cloud_platform_name, ampl_notebook, register_magics\n",
        "import pandas as pd\n",
        "import numpy as np\n",
        "\n",
        "# instantiate AMPL object and register magics\n",
        "ampl = tools.ampl_notebook(modules=MODULES, license_uuid=LICENSE_UUID, g=globals())\n",
        "\n",
        "# # Initialize AMPL\n",
        "# ampl = AMPL(Environment())\n",
        "\n",
        "register_magics(ampl_object=ampl)"
      ],
      "metadata": {
        "id": "PuxbM2Sp7tAl"
      },
      "execution_count": null,
      "outputs": []
    },
    {
      "cell_type": "code",
      "source": [
        "from google.colab import drive\n",
        "drive.mount('/content/drive')"
      ],
      "metadata": {
        "id": "84IQKprrDRAw"
      },
      "execution_count": null,
      "outputs": []
    },
    {
      "cell_type": "markdown",
      "source": [
        "# Load the Data into AMPL"
      ],
      "metadata": {
        "id": "D5roDpNv53qJ"
      }
    },
    {
      "cell_type": "code",
      "source": [
        "SKU = pd.read_excel(\n",
        "    \"/content/drive/MyDrive/Colab Notebooks/FoodSupply.xlsx\", sheet_name=\"SKU\", index_col=0\n",
        ")\n",
        "\n",
        "remaining = pd.read_excel(\n",
        "    \"/content/drive/MyDrive/Colab Notebooks/FoodSupply.xlsx\", sheet_name=\"remaining\", index_col=0\n",
        ")\n",
        "\n",
        "inbound = pd.read_excel(\n",
        "    \"/content/drive/MyDrive/Colab Notebooks/FoodSupply.xlsx\", sheet_name=\"incoming\"\n",
        ")\n",
        "SKU = dict(zip(SKU.index, SKU.Hours))\n",
        "remaining  = dict(zip(remaining.index, remaining['Remaining Time (Hrs)']))\n",
        "sorted_temp = sorted([SKU[i] for i in inbound.Item if i in SKU.keys()], reverse=True)\n",
        "incoming = dict([(i,j) for i,j in zip(range(len(sorted_temp)),sorted_temp)])"
      ],
      "metadata": {
        "id": "6CzIIb-RMeQj"
      },
      "execution_count": null,
      "outputs": []
    },
    {
      "cell_type": "markdown",
      "source": [
        "# Read and define data."
      ],
      "metadata": {
        "id": "ybnQ5f2sZ7Y8"
      }
    },
    {
      "cell_type": "code",
      "source": [
        "ampl.eval ('''\n",
        "\n",
        "reset;\n",
        "set SKU;\n",
        "set cells;\n",
        "set pallets;\n",
        "\n",
        "param time_taken {i in SKU};\n",
        "param remaining {i in cells};\n",
        "param pallet {i in pallets} ;\n",
        "\n",
        "var x {i in cells, j in pallets} >= 0 binary;\n",
        "\n",
        "minimize freeze_time {i in cells} : sum{j in pallets} (x[i, j] * pallet[j] )+ remaining[i];\n",
        "\n",
        "subject to \n",
        "    each_row_pallets {i in cells}: sum {j in pallets} x[i, j]<= 1;\n",
        "    first {i in cells} : sum{j in pallets} (x[i, j] * pallet[j] ) >= 1;                                           \n",
        "''')"
      ],
      "metadata": {
        "id": "SonvM06OB1ke"
      },
      "execution_count": null,
      "outputs": []
    },
    {
      "cell_type": "markdown",
      "source": [
        "# Provide data to the model."
      ],
      "metadata": {
        "id": "ziOLTZ-jaGM-"
      }
    },
    {
      "cell_type": "code",
      "source": [
        "ampl.set['SKU'] = SKU\n",
        "ampl.set['cells'] = remaining\n",
        "ampl.set['pallets'] = incoming\n",
        "\n",
        "ampl.param['time_taken'] = SKU\n",
        "ampl.param['remaining'] = remaining\n",
        "ampl.param['pallet'] = incoming"
      ],
      "metadata": {
        "id": "Vs6_XGHnlmHa"
      },
      "execution_count": null,
      "outputs": []
    },
    {
      "cell_type": "markdown",
      "source": [
        "#Set solver and solve."
      ],
      "metadata": {
        "id": "8NSEvBlbaKRX"
      }
    },
    {
      "cell_type": "code",
      "source": [
        "ampl.setOption('solver', 'gurobi')\n",
        "ampl.solve()"
      ],
      "metadata": {
        "id": "bL386q3bWGyQ"
      },
      "execution_count": null,
      "outputs": []
    },
    {
      "cell_type": "markdown",
      "source": [
        "Display problem formulation."
      ],
      "metadata": {
        "id": "HDcL4iYoaLao"
      }
    },
    {
      "cell_type": "code",
      "source": [
        "ampl.display('freeze_time');"
      ],
      "metadata": {
        "id": "nI_eFL3eT5WF"
      },
      "execution_count": null,
      "outputs": []
    },
    {
      "cell_type": "code",
      "source": [
        "fz=ampl.get_objective('freeze_time');\n",
        "df_val = fz.get_values().to_pandas()\n",
        "print(df_val)"
      ],
      "metadata": {
        "id": "uLZAVLeAYB0t"
      },
      "execution_count": null,
      "outputs": []
    },
    {
      "cell_type": "code",
      "source": [
        "total_freeze = max(df_val.values.reshape(1, -1)[0])"
      ],
      "metadata": {
        "id": "ZTHrRIAK6fpd"
      },
      "execution_count": null,
      "outputs": []
    },
    {
      "cell_type": "markdown",
      "source": [
        "Print solution and results."
      ],
      "metadata": {
        "id": "JZU9EHwMaSns"
      }
    },
    {
      "cell_type": "code",
      "source": [
        "obj = ampl.get_objective('freeze_time')\n",
        "print(\"\\n\")\n",
        "#print(\"TotalCost is: \", obj.get().value(), \"\\n\")\n",
        "print(\"Optimal Allocation:\")\n",
        "ampl.display('x');"
      ],
      "metadata": {
        "id": "MAyXZ4iOdi42"
      },
      "execution_count": null,
      "outputs": []
    },
    {
      "cell_type": "code",
      "source": [
        "var_x = ampl.get_variable('x').get_values().to_dict()\n",
        "cells = set([i for i,j in var_x.keys()])\n",
        "pallets = set([j for i,j in var_x.keys()])\n",
        "data = pd.DataFrame([[var_x[(j, i)] for j in cells] for i in pallets], columns= list(cells))\n",
        "cells_temp = dict(zip(df_val.index, df_val.values))"
      ],
      "metadata": {
        "id": "H09WDNCO-cFL"
      },
      "execution_count": null,
      "outputs": []
    },
    {
      "cell_type": "markdown",
      "source": [
        "# Allocation"
      ],
      "metadata": {
        "id": "FW_rnUAi6xD-"
      }
    },
    {
      "cell_type": "code",
      "source": [
        "for i,j in var_x:\n",
        "  if var_x[(i,j)] > 0:\n",
        "    print(f'{i} <---- Total time: {cells_temp[i][0]:.2f} \\t Remaining Time: {remaining[i]:.2f} \\t Pallet Time: {incoming[j]}')"
      ],
      "metadata": {
        "id": "wJMjj4kZCspj"
      },
      "execution_count": null,
      "outputs": []
    },
    {
      "cell_type": "markdown",
      "source": [
        "# Total Freeze time"
      ],
      "metadata": {
        "id": "Vqwix9aq639q"
      }
    },
    {
      "cell_type": "code",
      "source": [
        "print(f'The optimal solution is for interchange Group inc. is to have {total_freeze} hours of freezing time.') "
      ],
      "metadata": {
        "id": "h07RP7O7Q7Aq"
      },
      "execution_count": null,
      "outputs": []
    }
  ]
}